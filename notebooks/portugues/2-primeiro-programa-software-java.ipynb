{
 "cells": [
  {
   "cell_type": "markdown",
   "id": "5aa0b17c",
   "metadata": {},
   "source": [
    "# 2. Primeiro Programa de _Software_ em _Java_\n",
    "***\n",
    "***"
   ]
  },
  {
   "cell_type": "markdown",
   "id": "1dd8b23f",
   "metadata": {},
   "source": [
    "## Como é programar em _Java_?"
   ]
  },
  {
   "cell_type": "markdown",
   "id": "a593e175",
   "metadata": {},
   "source": [
    "* Normalmene, o processo de programar em **_Java_** resume-se em <u>3 passos</u>:\n",
    "    1. Criar o programa de _software_ em **_Java_**:\n",
    "        * Digitar o conteúdo do programa de _software_ em **_Java_** num <u>editor de texto</u> ou <u>ambiente de desenvolvimento integrado</u>, e guardando-o num ficheiro com a extensão **_Java_**, do tipo ``<nome-programa-ou-classe>.java``, por exemplo, ``MeuPrograma.java``;\n",
    "    2. Compilar o programa de _software_ em **_Java_**:\n",
    "        * Abrir uma janela de terminal ou linha de comandos, para compilar o programa de _software_ em **_Java_** escrito anteriormente, digitando o comando ``javac <nome-programa-ou-classe>.java``, ou seja, ``javac MeuPrograma.java``, no exemplo anterior;\n",
    "    3. Executar o programa de _software_ em **_Java_**:\n",
    "        * Digitar ``java <nome-programa-ou-classe-compilado>`` numa janela de terminal ou linha de comandos, ou seja, ``java MeuPrograma``, no exemplo anterior, de forma a executar o programa de _software_ em **_Java_** escrito e compilado nos passos anteriores;\n",
    "<br>\n",
    "<br>\n",
    "* Nomeadamente, este processo resume-se às seguintes etapas:\n",
    "    * No passo 1, criamos o programa de _software_ em **_Java_** pretendido, definido como ``<nome-programa-ou-classe>.java``, ou por exemplo, ``MeuPrograma.java``;\n",
    "    * No passo 2, o programa de _software_ é traduzido para uma linguagem mais adequada à execução da máquina (i.e., linguagem máquina), colocando o resultado num ficheiro chamado ``<nome-programa-ou-classe-compilado>.class``, ou por exemplo, ``MeuPrograma.class``;\n",
    "    * No passo 3, executamos realmente o programa de _software_ escrito em **_Java_**, definido como ``<nome-programa-ou-classe-compilado>``, por exemplo, ``MeuPrograma``;"
   ]
  },
  {
   "cell_type": "markdown",
   "id": "7f58c413",
   "metadata": {},
   "source": [
    "***"
   ]
  },
  {
   "cell_type": "markdown",
   "id": "1c5e38d2",
   "metadata": {},
   "source": [
    "## Um primeiro programa de _software_ em _Java_: Olá Mundo!"
   ]
  },
  {
   "cell_type": "markdown",
   "id": "701bcd0d",
   "metadata": {},
   "source": [
    "* De forma a vermos este processo em funcionamento, vamos escrever o nosso primeiro programa de _software_ em **_Java_**, o famoso **_Olá Mundo!_**, também conhecido como **_Hello World!_**;\n",
    "<br>\n",
    "<br>\n",
    "* A ideia deste programa de _software_ é bastante simples:\n",
    "    * <u>Imprimir na janela de terminal ou linha de comandos, a seguinte mensagem: **_Olá Mundo!_**</u>;"
   ]
  },
  {
   "cell_type": "markdown",
   "id": "85f4b258",
   "metadata": {},
   "source": [
    "### 1. Criar o programa de _software_ em **_Java_**"
   ]
  },
  {
   "cell_type": "markdown",
   "id": "cbb2ae8a",
   "metadata": {},
   "source": [
    "* De forma simples, um programa de _software_ apenas é uma sequência de caratéres, como por exemplo, uma frase, um parágrafo ou um poema;\n",
    "<br>\n",
    "<br>\n",
    "* Para criar um programa de _software_, precisamos apenas definir os caratéres desta sequência, usando um editor de texto ou um <u>editor de texto</u> ou <u>ambiente de desenvolvimento integrado</u>, da mesma forma que fazemos para escrever um e-mail;\n",
    "<br>\n",
    "<br>\n",
    "* O programa de _software_ em **_Java_** usado aqui como exemplo, vai ser definido através de um ficheiro com o nome ``OlaMundo.java``;\n",
    "<br>\n",
    "<br>\n",
    "* Agora, é necessário escrever os caratéres com as instruções a serem executadas pelo _software_ em **_Java_**;\n",
    "<br>\n",
    "<br>\n",
    "* Nomeadamente, podemos fazer copiar-colar (_copy-paste_) do exemplo de código abaixo para um <u>editor de texto</u> ou <u>ambiente de desenvolvimento integrado</u> à nossa escolha, guardando o seu conteúdo de seguida no ficheiro chamado ``OlaMundo.java``;"
   ]
  },
  {
   "cell_type": "code",
   "execution_count": 1,
   "id": "80ec87d2",
   "metadata": {},
   "outputs": [
    {
     "data": {
      "text/plain": [
       "aula_2.ProgramaOlaMundo"
      ]
     },
     "execution_count": 1,
     "metadata": {},
     "output_type": "execute_result"
    }
   ],
   "source": [
    "// Declaracao do pacote da aula 2.\n",
    "package aula_2;\n",
    "\n",
    "\n",
    "// Definicao do objeto (ou classe) principal\n",
    "// para o famoso programa de software ''Olá Mundo''.\n",
    "public class ProgramaOlaMundo {\n",
    "   \n",
    "    // Definicao do metodo principal a ser executado\n",
    "    // pelo programa de software ''Olá Mundo''.\n",
    "    public static void main( String[] argumentos ) {\n",
    "        \n",
    "        // Imprime a mensagem ''Olá Mundo!'' numa\n",
    "        // janela de terminal ou linha de comandos.\n",
    "        System.out.println( \"Olá Mundo!\" );\n",
    "    \n",
    "    }\n",
    "\n",
    "}"
   ]
  },
  {
   "cell_type": "code",
   "execution_count": 2,
   "id": "29c51c75",
   "metadata": {},
   "outputs": [
    {
     "name": "stdout",
     "output_type": "stream",
     "text": [
      "Olá Mundo!\n"
     ]
    },
    {
     "data": {
      "text/plain": [
       "null"
      ]
     },
     "execution_count": 2,
     "metadata": {},
     "output_type": "execute_result"
    }
   ],
   "source": [
    "// Declaracao do pacote da aula 2.\n",
    "package aula_2;\n",
    "\n",
    "\n",
    "// Declaracao do programa de software ''Olá Mundo'',\n",
    "// criando um objeto principal do mesmo tipo.\n",
    "ProgramaOlaMundo ola_mundo = new ProgramaOlaMundo();\n",
    "\n",
    "// Criacao de um vetor vazio para os argumentos\n",
    "// a serem passados ao metodo principal a ser\n",
    "// executado pelo programa de software ''Olá Mundo''.\n",
    "String [] argumentos = new String[0];\n",
    "\n",
    "// Execucao do metodo principal a ser executado\n",
    "// pelo programa de software ''Olá Mundo'',\n",
    "// considerando os argumentos definidos anteriormente.\n",
    "ola_mundo.main( argumentos );"
   ]
  },
  {
   "cell_type": "markdown",
   "id": "c866d8ee",
   "metadata": {},
   "source": [
    "***"
   ]
  },
  {
   "cell_type": "markdown",
   "id": "1c395769",
   "metadata": {},
   "source": [
    "## Autor:\n",
    "* ### **Rúben André Barreiro**\n",
    "    * **Ph.D. Student at Técnico Lisboa - ULisboa (IST/UL)**\n",
    "        * **E-mail:** [ruben.andre.letra.barreiro@tecnico.ulisboa.pt](mailto:rabarreiro@ciencias.ulisboa.pt)\n",
    "    * **Invited Assistant Professor at Faculdade de Ciências - ULisboa (FCUL)**\n",
    "        * **E-mail:** [rabarreiro@ciencias.ulisboa.pt](mailto:rabarreiro@ciencias.ulisboa.pt)"
   ]
  },
  {
   "cell_type": "markdown",
   "id": "d60bca25",
   "metadata": {},
   "source": [
    "### Última atualização a:\n",
    "* 12 de Setembro de 2023 (12/09/2023)"
   ]
  },
  {
   "cell_type": "markdown",
   "id": "494e350a",
   "metadata": {},
   "source": [
    "***"
   ]
  }
 ],
 "metadata": {
  "kernelspec": {
   "display_name": "Java",
   "language": "java",
   "name": "java"
  },
  "language_info": {
   "codemirror_mode": "text/x-java",
   "file_extension": ".java",
   "mimetype": "",
   "name": "Java",
   "nbconverter_exporter": "",
   "version": "1.8.0_121"
  },
  "toc": {
   "base_numbering": 1,
   "nav_menu": {},
   "number_sections": false,
   "sideBar": false,
   "skip_h1_title": false,
   "title_cell": "Table of Contents",
   "title_sidebar": "Contents",
   "toc_cell": false,
   "toc_position": {},
   "toc_section_display": false,
   "toc_window_display": false
  }
 },
 "nbformat": 4,
 "nbformat_minor": 5
}
