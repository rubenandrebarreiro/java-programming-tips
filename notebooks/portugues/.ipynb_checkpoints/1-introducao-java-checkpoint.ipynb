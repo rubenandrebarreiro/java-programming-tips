{
 "cells": [
  {
   "cell_type": "markdown",
   "id": "4796fd26",
   "metadata": {},
   "source": [
    "# 1. Introdução a _Java_\n",
    "***\n",
    "***"
   ]
  },
  {
   "cell_type": "markdown",
   "id": "6bd99078",
   "metadata": {},
   "source": [
    "## O que é o _Java_?"
   ]
  },
  {
   "cell_type": "markdown",
   "id": "7e42bd95",
   "metadata": {},
   "source": [
    "* O **_Java_** é uma linguagem de programação popular de _alto nível_ e _multi-paradigma_. Nomeadamente, é uma linguagem de programação do tipo:\n",
    "    * **_Genérica_**:\n",
    "        * Pode fazer uso de algoritmos e programas de _software_ escritos em termos de tipos de dados;\n",
    "        * Este tipos de dados são inicializados através de informação concreta ou de parâmetros fornecidos quando necessário;\n",
    "    * **_Orientada a Objetos (Baseada em Classes)_**:\n",
    "        * Pode fazer uso do conceito de objetos (conhecidos como classes), que podem conter tanto dados como código;\n",
    "        * Os dados são definidos na forma de campos, também conhecidos como atributos ou propriedades do objeto em si;\n",
    "        * O código é definido na forma de procedimentos ou funcionalidades do objeto em si, também conhecidos como métodos;\n",
    "    * **_Funcional_**:\n",
    "        * Pode fazer uso do conceito de composição de funções para construir programas de _software_;\n",
    "        * A definição destas funções são árvores de expressões que fazem mapeamento de valores para outros valores; \n",
    "    * **_Imperativa_**:\n",
    "        * Pode fazer uso de sequências de instruções imperativas que atualizam o estado de execução do programa de _software_;\n",
    "        * Consiste em comandos para o computador executar, durante a execução do programa de _software_;\n",
    "        * Representa uma descrição de como o programa de _software_ funciona passo a passo, numa ordem sequêncial,  onde um é concluído antes do início do próximo;\n",
    "    * **_Refletiva_**:\n",
    "        * Pode fazer uso da capacidade de examinar, introspetar e modificar a própria estrutura e comportamento esperado de um processo ou programa de _software_;\n",
    "    * **_Concorrente_**:\n",
    "        * Pode fazer uso da capacidade de executar vários cálculos ou instruções simultaneamente e paralelamente (durante períodos de tempo sobrepostos), em vez de seguir uma ordem sequêncial dos mesmos;\n",
    "<br>\n",
    "<br>\n",
    "* O **_Java_** é uma linguagem de programação, que foi originalmente desenvolvida pela **_Sun Microsystems_** e lançada em 1995;\n",
    "<br>\n",
    "<br>\n",
    "* Atualmente (e desde 2008), o **_Java_** é propriedade da **_Oracle_** e estima-se que mais de 3 biliões de dispositivos executam programas de _software_ escritos e desenvolvidos em **_Java_**.\n",
    "<br>\n",
    "<br>\n",
    "* O **_Java_** pode ser executado em diversas plataformas e sistemas operativos, como o **_Windows_** da **_Microsoft_**, e outros sistemas operativos baseados em **_UNIX_**, como o **_Mac OS_** da **_Apple_** ou a maior parte das distribuições de código aberto (_open-source_) **_Linux_** (e.g., **_Ubuntu_**, **_Debian_**, etc.);\n",
    "<br>\n",
    "<br>\n",
    "* O **_Java_** é usado para desenvolver vários tipos de aplicações e programas de _software_, como aplicativos móveis (por exemplo, a linguagem de programação **_Android_** é baseada em **_Java_**), aplicações _Web_ (e.g., servidores, sistemas distribuídos, etc.), aplicações de _desktop_ (i.e., computadores pessoais não portáteis), jogos e muito mais;\n",
    "<br>\n",
    "<br>\n",
    "* O **_Java_** é também uma linguagem de programação de uso geral destinada a permitir que os programadores escrevam uma vez, executem em qualquer lugar, particularidade conhecida pelo _slogan_ **_Write Once, Run Anywhere (WORA)_**:\n",
    "    * Isto significa que o código escrito em **_Java_** que esteja devidamente compilado pode ser executado em todas as plataformas que suportem **_Java_**, sem a necessidade de recompilar o mesmo código;"
   ]
  },
  {
   "cell_type": "markdown",
   "id": "e9a224c2",
   "metadata": {},
   "source": [
    "***"
   ]
  },
  {
   "cell_type": "markdown",
   "id": "90cfb52c",
   "metadata": {},
   "source": [
    "## Porque é que é útil aprender _Java_?"
   ]
  },
  {
   "cell_type": "markdown",
   "id": "37f9f665",
   "metadata": {},
   "source": [
    "* O **_Java_** é visto como uma linguagem de programação praticamente de caráter OBRIGATÓRIO para estudantes e profissionais ativos que se desejem tornar grandes **_Engenheiros Informáticos_** ou **_Engenheiros de Software_**;\n",
    "<br>\n",
    "<br>\n",
    "* Ao pesquisarmos acerca da melhor linguagem de programação, **_Java_** certamente será uma das linguagens de programação mais mencionadas nesta pesquisa;\n",
    "<br>\n",
    "<br>\n",
    "* Atualmente (i.e., Setembro de 2023), o **_Java_** é a <u>4.ª linguagem de programação mais popular</u>, segundo a **_Comunidade de Programação da TIOBE_**, disponível em:\n",
    "    * [https://www.tiobe.com/tiobe-index/](https://www.tiobe.com/tiobe-index/); \n",
    "<br>\n",
    "<br>\n",
    "* O **_Java_** é bastante fácil de aprender, especialmente para quem está a começar a aprender a programar qualquer linguagem de programação;\n",
    "<br>\n",
    "<br>\n",
    "* Existem várias ferramentas para usar em **_Java_** que facilitam o uso da linguagem por parte de iniciantes e desenvolvedores de _software_;\n",
    "<br>\n",
    "<br>\n",
    "* Adicionalmente, existem muitos outros bons motivos que fazem com que a linguagem de programação **_Java_** seja a primeira escolha de qualquer programador, nomeadamente:\n",
    "    * O **_Java_** é código aberto (_open-source_) o que significa que está disponível gratuitamente;\n",
    "    * O **_Java_** é <u>simples e muito fácil de aprender</u>;\n",
    "    * O **_Java_** é uma linguagem de programação muito procurada pelas empresas e normalmente, garante salários razoáveis, e por vezes, até altos;\n",
    "    * O **_Java_** tem uma grande comunidade adepta da linguagem de programação em si;\n",
    "    * O **_Java_** possui ferramentas de desenvolvimento poderosas;\n",
    "    * O **_Java_** é uma linguagem de programação que acaba por ser independente da plataforma ou sistema operativo;"
   ]
  },
  {
   "cell_type": "markdown",
   "id": "57210d8f",
   "metadata": {},
   "source": [
    "***"
   ]
  },
  {
   "cell_type": "markdown",
   "id": "38c0fe2b",
   "metadata": {},
   "source": [
    "## Que outras particularidades tem o _Java_?"
   ]
  },
  {
   "cell_type": "markdown",
   "id": "38137a5e",
   "metadata": {},
   "source": [
    "* A versão mais recente do **_Java Standard Edition_** (**_Java SE_**) é o **_Java SE 18_**;\n",
    "<br>\n",
    "<br>\n",
    "* Com o avanço no desenvolvimento de versões da linguagem de programação **_Java_**, juntamente com a sua ampla popularidade, outras configurações foram criadas para atender a vários tipos de plataformas, como por exemplo:\n",
    "    * O **_Java 2 Platform, Enterprise Edition_** (**_J2EE_**) foi desenhado especialmente para aplicações empresariais;\n",
    "    * O **_Java 2 Platform, Micro Edition_** (**_J2ME_**) tem um desenvolvimento mais direcionado para aplicações móveis e aplicações para contexto de **_Internet of Things_** (**_IoT_**);\n",
    "<br>\n",
    "<br>\n",
    "* Adicionalmente, as novas versões **_Java 2 Platform_** (**_J2_**) tiveram o seu nome alterado para **_Java Standard Edition_** (**_Java SE_**), **_Java Enterprise Edition_** (**_Java EE_**) e **_Java Micro Edition_** (**_Java ME_**) respectivamente;\n",
    "<br>\n",
    "<br>\n",
    "* Por fim, o **_Java_** é uma linguagem de programação que oferece as seguintes particularidades:\n",
    "    * **_Multi-Tarefa_** (**_Multi-Threaded_**):\n",
    "        * Com o recurso de **_multi-tarefa_** (**_multi-thread_**) do **_Java_** é possível escrever programas de _software_ que podem realizar muitas tarefas simultaneamente e em paralelo;\n",
    "        * Este recurso de _design_ de _software_ permite que os programadores e desenvolvedores de _software_ construam aplicações interativas que possam funcionar sem problemas, de forma rápida e eficiente;\n",
    "    * **_Interpretada_**:\n",
    "        * O código de _bytes_ (i.e., linguagem máquina) produzido pelo **_Java_** é traduzido instantaneamente para instruções de máquina nativas e não é armazenado em nenhum lugar;\n",
    "        * Desta forma, o processo de desenvolvimento é mais rápido e analítico, pois a vinculação é um processo incremental e leve;\n",
    "    * **_Eficiente_**:\n",
    "        * Com o uso de compiladores do tipo **_Just-In-Time_** (**_JIT_**), o **_Java_** é visto como uma linguagem de programação eficiente e de alto desempenho;\n",
    "        * Os compiladores do tipo **_Just-In-Time_** (**_JIT_**) compilam o código escrito em **_Java_** durante o tempo de execução, e não antes da mesma;\n",
    "    * **_Distribuída_**:\n",
    "        * O **_Java_** foi projetado como uma linguagem de programação direcionada para o ambiente distribuído da _Internet_, nomeadamente no contexto de servidores e sistemas distribuídos;\n",
    "    * **_Dinâmica_**:\n",
    "        * O **_Java_** é considerado uma linguagem de programação mais dinâmica do que outras linguagens de programação também populares como o **_C_** ou **_C++_**;\n",
    "        * Nomeadamente, foi projetado para se adaptar a um ambiente ou plataforma em constante evolução;\n",
    "        * Desta forma, os programas de _software_ escritos em **_Java_** podem transportar uma grande quantidade de informações em tempo de execução que podem ser usadas para verificar e resolver acessos a objetos (i.e., classes) em tempo de execução;"
   ]
  },
  {
   "cell_type": "markdown",
   "id": "f9e3e3d9",
   "metadata": {},
   "source": [
    "***"
   ]
  },
  {
   "cell_type": "markdown",
   "id": "c707313b",
   "metadata": {},
   "source": [
    "## Autor:\n",
    "* ### **Rúben André Barreiro**\n",
    "    * **Ph.D. Student at Técnico Lisboa - ULisboa (IST/UL)**\n",
    "        * **E-mail:** [ruben.andre.letra.barreiro@tecnico.ulisboa.pt](mailto:rabarreiro@ciencias.ulisboa.pt)\n",
    "    * **Invited Assistant Professor at Faculdade de Ciências - ULisboa (FCUL)**\n",
    "        * **E-mail:** [rabarreiro@ciencias.ulisboa.pt](mailto:rabarreiro@ciencias.ulisboa.pt)"
   ]
  },
  {
   "cell_type": "markdown",
   "id": "2d4eb33b",
   "metadata": {},
   "source": [
    "### Última atualização a:\n",
    "* 12 de Setembro de 2023 (12/09/2023)"
   ]
  },
  {
   "cell_type": "markdown",
   "id": "4ef0a9fa",
   "metadata": {},
   "source": [
    "***"
   ]
  }
 ],
 "metadata": {
  "kernelspec": {
   "display_name": "Python 3 (ipykernel)",
   "language": "python",
   "name": "python3"
  },
  "language_info": {
   "codemirror_mode": {
    "name": "ipython",
    "version": 3
   },
   "file_extension": ".py",
   "mimetype": "text/x-python",
   "name": "python",
   "nbconvert_exporter": "python",
   "pygments_lexer": "ipython3",
   "version": "3.11.4"
  },
  "toc": {
   "base_numbering": 1,
   "nav_menu": {},
   "number_sections": false,
   "sideBar": false,
   "skip_h1_title": false,
   "title_cell": "Table of Contents",
   "title_sidebar": "Contents",
   "toc_cell": false,
   "toc_position": {},
   "toc_section_display": false,
   "toc_window_display": false
  }
 },
 "nbformat": 4,
 "nbformat_minor": 5
}
